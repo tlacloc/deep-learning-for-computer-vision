{
 "cells": [
  {
   "cell_type": "markdown",
   "metadata": {},
   "source": [
    "<!--Información del curso-->\n",
    "<!--Información del curso-->\n",
    "<img align=\"left\" style=\"padding-right:10px;\" src=\"figuras/banner_dl.png\">"
   ]
  },
  {
   "cell_type": "markdown",
   "metadata": {},
   "source": [
    "<center><h1 style=\"font-size:2em;color:#2467C0\">  Caso de estudio </h1></center>\n",
    "\n",
    "<center><h4 style=\"font-size:2em;color:#840700\">  Pasajeros del Titanic  </h4></center>\n",
    "\n",
    "<br>\n",
    "<table>\n",
    "<col width=\"550\">\n",
    "<col width=\"450\">\n",
    "<tr>\n",
    "<td><img src=\"figuras/titanic.jpg\" align=\"middle\" style=\"width:500px\"/></td>\n",
    "<td align=\"left-align\">\n",
    "\n",
    "EL **Titanic** fue un transatlántico británico, el mayor barco del mundo al finalizar su construcción, que se hundió en la noche del 14 a la madrugada del 15 de abril de 1912 durante su viaje inaugural desde Southampton a Nueva York. Solo sobrevivieron 711 de las 2208 personas que iban a bordo (contando pasajeros y tripulación)\n",
    "\n",
    "En este ejemplo, analizaremos información de los pasajeros del Titanic utilizando la librerá Pandas.\n",
    "\n",
    "    \n",
    "<br>\n",
    "</td>\n",
    "</tr>\n",
    "</table>"
   ]
  },
  {
   "cell_type": "markdown",
   "metadata": {},
   "source": [
    "# Librerías"
   ]
  },
  {
   "cell_type": "markdown",
   "metadata": {
    "collapsed": true
   },
   "source": [
    "Cargamos las bibliotecas que necesitamos "
   ]
  },
  {
   "cell_type": "code",
   "execution_count": 1,
   "metadata": {},
   "outputs": [],
   "source": [
    "import csv\n",
    "import matplotlib.pyplot as plt"
   ]
  },
  {
   "cell_type": "markdown",
   "metadata": {},
   "source": [
    "# Cargamos los datos"
   ]
  },
  {
   "cell_type": "code",
   "execution_count": null,
   "metadata": {
    "run_control": {
     "frozen": false,
     "read_only": false
    }
   },
   "outputs": [],
   "source": [
    "#Leer el archivo datos/titanic.csv\n"
   ]
  },
  {
   "cell_type": "markdown",
   "metadata": {},
   "source": [
    "Descripción de las columnas : \n",
    "* Survival - Supervivencia  (0 = No; 1 = Si).  \n",
    "* Pclass - Clase (1 = 1st; 2 = 2nd; 3 = 3rd)\n",
    "* Name - Nombre\n",
    "* Sex - Sexo\n",
    "* Age - Edad\n",
    "* Sibsp - Número de hermanos / cónyuges a bordo\n",
    "* Parch - Número de padres / niños a bordo\n",
    "* Ticket - Número de ticket\n",
    "* Fare - Tarifa \n",
    "* Cabin - Número de cabina\n",
    "* Embarked - Puerto de embarque (C = Cherbourg; Q = Queenstown; S = Southampton)"
   ]
  },
  {
   "cell_type": "code",
   "execution_count": 1,
   "metadata": {},
   "outputs": [],
   "source": [
    "import csv\n",
    "\n"
   ]
  },
  {
   "cell_type": "code",
   "execution_count": null,
   "metadata": {},
   "outputs": [],
   "source": [
    "\n"
   ]
  },
  {
   "cell_type": "markdown",
   "metadata": {},
   "source": [
    "<div class=\"alert alert-info\">\n",
    " <ul>\n",
    "  <li>Encuentre el número de pasajeros</li>\n",
    "</ul> \n",
    "\n",
    "</div>"
   ]
  },
  {
   "cell_type": "code",
   "execution_count": 3,
   "metadata": {},
   "outputs": [],
   "source": [
    "contador_personas=0\n"
   ]
  },
  {
   "cell_type": "markdown",
   "metadata": {},
   "source": [
    "<div class=\"alert alert-info\">\n",
    " <ul>\n",
    "  <li>Encuentre el número de sobrevivientes</li>\n",
    "</ul> \n",
    "\n",
    "</div>"
   ]
  },
  {
   "cell_type": "code",
   "execution_count": 4,
   "metadata": {},
   "outputs": [],
   "source": [
    "contador_sobrevivientes=0\n",
    "\n"
   ]
  },
  {
   "cell_type": "markdown",
   "metadata": {},
   "source": [
    "<div class=\"alert alert-info\">\n",
    " <ul>\n",
    "  <li>Encuentre el numero de pasajeros por clase </li>\n",
    "</ul> \n",
    "\n",
    "</div>"
   ]
  },
  {
   "cell_type": "code",
   "execution_count": 5,
   "metadata": {},
   "outputs": [],
   "source": [
    "contador_C1=0\n",
    "contador_C2=0\n",
    "contador_C3=0\n",
    "\n"
   ]
  },
  {
   "cell_type": "markdown",
   "metadata": {},
   "source": [
    "<div class=\"alert alert-info\">\n",
    " <ul>\n",
    "  <li>Encuentre el numero de pasajeros que tengan como nombre o apellido el string 'William'</li>\n",
    "</ul> \n",
    "\n",
    "</div>"
   ]
  },
  {
   "cell_type": "code",
   "execution_count": 6,
   "metadata": {},
   "outputs": [],
   "source": [
    "contador_William=0\n",
    "\n"
   ]
  },
  {
   "cell_type": "markdown",
   "metadata": {},
   "source": [
    "<div class=\"alert alert-success\">\n",
    " <ul>\n",
    "  <li>1. Encuentre el número de mujeres y hombres. ¿Cuál era la probabilidad de supervivencia de una persona? ¿Cuál era la probabilidad de supervivencia de un hombre y el de una mujer?</li>\n",
    "</ul> \n",
    "\n",
    "</div>"
   ]
  },
  {
   "cell_type": "markdown",
   "metadata": {},
   "source": [
    "<div class=\"alert alert-success\">\n",
    " <ul>\n",
    "  <li>2. ¿Cuál era la edad promedio?¿Cual era la edad de la persona más grande y la de la más joven? ¿Cuáles eran las edades de las 5 personas mas grandes?.  </li>\n",
    "</ul> \n",
    "\n",
    "</div>"
   ]
  },
  {
   "cell_type": "markdown",
   "metadata": {},
   "source": [
    "<div class=\"alert alert-success\">\n",
    " <ul>\n",
    "  <li> 3. ¿Cuál era la probabilidad de supervivencia de alguien menor a 25 años?  </li>\n",
    "</ul> \n",
    "\n",
    "</div>"
   ]
  },
  {
   "cell_type": "markdown",
   "metadata": {},
   "source": [
    "<div class=\"alert alert-success\">\n",
    " <ul>\n",
    "  <li> 4. Encuentre en número de personas que embarcaron en Cherbourg, Queenstown y en Southampton.  </li>\n",
    "</ul> \n",
    "\n",
    "</div>"
   ]
  },
  {
   "cell_type": "markdown",
   "metadata": {},
   "source": [
    "<div class=\"alert alert-success\">\n",
    " <ul>\n",
    "  <li> 5. Con los datos del ejercicio anterior haga una grafica de barras </li>\n",
    "</ul> \n",
    "\n",
    "</div>"
   ]
  },
  {
   "cell_type": "markdown",
   "metadata": {},
   "source": [
    "<div class=\"alert alert-success\">\n",
    " <ul>\n",
    "  <li> 6. ¿Cuál hubiera sido la ganancia total? Considere que el día del embarque se le pedía un impuesto a cada tripulante dependiendo de su clase (3era = 0.5 pounds, 2da = 15 pounds, 1era=40 pounds).  Defina una función llamada conversión que reciba dos parámetros (la clase y el costo del ticket) y  regrese el costo actual (USD). Exprese su resultados en USD  </li>\n",
    "</ul> \n",
    "\n",
    "</div>"
   ]
  },
  {
   "cell_type": "markdown",
   "metadata": {},
   "source": [
    "<div class=\"alert alert-success\">\n",
    "\n",
    " <ul>\n",
    "  <li>7. ¿Cuál es la distribución por edad de los pasajeros de manera general, así como para hombres y mujeres? (Usando histogramas)</li>\n",
    "</ul> \n",
    "\n",
    "</div>"
   ]
  },
  {
   "cell_type": "markdown",
   "metadata": {},
   "source": [
    "<div class=\"alert alert-success\">\n",
    " \n",
    " <ul>\n",
    "  <li> 8. ¿Cómo difiere la tasa de supervivencia entre las diferentes clases del Titanic?</li>\n",
    "</ul> \n",
    "\n",
    "</div>"
   ]
  },
  {
   "cell_type": "markdown",
   "metadata": {},
   "source": [
    "\n",
    "\n",
    "<div class=\"alert alert-warning\">\n",
    "\n",
    "**Todas las funciones necesarias para analizar datos como los del ejemplo anterior, se explicarán a lo largo de esta unidad dedicada a la librería Pandas**\n",
    "\n",
    "</div>"
   ]
  },
  {
   "cell_type": "markdown",
   "metadata": {},
   "source": [
    "<img align=\"left\" width=\"800\"  float= \"none\" align=\"middle\" src=\"figuras/titanic2.png\">"
   ]
  },
  {
   "cell_type": "code",
   "execution_count": null,
   "metadata": {},
   "outputs": [],
   "source": []
  }
 ],
 "metadata": {
  "kernelspec": {
   "display_name": "Python 3",
   "language": "python",
   "name": "python3"
  },
  "language_info": {
   "codemirror_mode": {
    "name": "ipython",
    "version": 3
   },
   "file_extension": ".py",
   "mimetype": "text/x-python",
   "name": "python",
   "nbconvert_exporter": "python",
   "pygments_lexer": "ipython3",
   "version": "3.6.2"
  }
 },
 "nbformat": 4,
 "nbformat_minor": 4
}
