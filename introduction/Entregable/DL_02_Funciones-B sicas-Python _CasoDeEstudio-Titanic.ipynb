{
 "cells": [
  {
   "cell_type": "markdown",
   "metadata": {},
   "source": [
    "<!--Información del curso-->\n",
    "<!--Información del curso-->\n",
    "<img align=\"left\" style=\"padding-right:10px;\" src=\"figuras/banner_dl.png\">"
   ]
  },
  {
   "cell_type": "markdown",
   "metadata": {},
   "source": [
    "<center><h1 style=\"font-size:2em;color:#2467C0\">  Caso de estudio </h1></center>\n",
    "\n",
    "<center><h4 style=\"font-size:2em;color:#840700\">  Pasajeros del Titanic  </h4></center>\n",
    "\n",
    "<br>\n",
    "<table>\n",
    "<col width=\"550\">\n",
    "<col width=\"450\">\n",
    "<tr>\n",
    "<td><img src=\"figuras/titanic.jpg\" align=\"middle\" style=\"width:500px\"/></td>\n",
    "<td align=\"left-align\">\n",
    "\n",
    "EL **Titanic** fue un transatlántico británico, el mayor barco del mundo al finalizar su construcción, que se hundió en la noche del 14 a la madrugada del 15 de abril de 1912 durante su viaje inaugural desde Southampton a Nueva York. Solo sobrevivieron 711 de las 2208 personas que iban a bordo (contando pasajeros y tripulación)\n",
    "\n",
    "En este ejemplo, analizaremos información de los pasajeros del Titanic utilizando la librerá Pandas.\n",
    "\n",
    "    \n",
    "<br>\n",
    "</td>\n",
    "</tr>\n",
    "</table>"
   ]
  },
  {
   "cell_type": "markdown",
   "metadata": {},
   "source": [
    "# Librerías"
   ]
  },
  {
   "cell_type": "markdown",
   "metadata": {
    "collapsed": true
   },
   "source": [
    "Cargamos las bibliotecas que necesitamos "
   ]
  },
  {
   "cell_type": "code",
   "execution_count": 2,
   "metadata": {},
   "outputs": [],
   "source": [
    "import csv\n",
    "import matplotlib.pyplot as plt"
   ]
  },
  {
   "cell_type": "markdown",
   "metadata": {},
   "source": [
    "# Cargamos los datos"
   ]
  },
  {
   "cell_type": "code",
   "execution_count": 3,
   "metadata": {
    "run_control": {
     "frozen": false,
     "read_only": false
    }
   },
   "outputs": [],
   "source": [
    "#Leer el archivo datos/titanic.csv\n"
   ]
  },
  {
   "cell_type": "markdown",
   "metadata": {},
   "source": [
    "Descripción de las columnas : \n",
    "* Survival - Supervivencia  (0 = No; 1 = Si).  \n",
    "* Pclass - Clase (1 = 1st; 2 = 2nd; 3 = 3rd)\n",
    "* Name - Nombre\n",
    "* Sex - Sexo\n",
    "* Age - Edad\n",
    "* Sibsp - Número de hermanos / cónyuges a bordo\n",
    "* Parch - Número de padres / niños a bordo\n",
    "* Ticket - Número de ticket\n",
    "* Fare - Tarifa \n",
    "* Cabin - Número de cabina\n",
    "* Embarked - Puerto de embarque (C = Cherbourg; Q = Queenstown; S = Southampton)"
   ]
  },
  {
   "cell_type": "code",
   "execution_count": 4,
   "metadata": {
    "tags": [
     "outputPrepend"
    ]
   },
   "outputs": [
    {
     "output_type": "stream",
     "name": "stdout",
     "text": [
      " '1', 'Silverthorne', ' Mr. Spencer Victor', 'male', '35', '0', '0', 'PC 17475', '26.2875', 'E24', 'S']\n['703', '0', '3', 'Barbara', ' Miss. Saiide', 'female', '18', '0', '1', '2691', '14.4542', '', 'C']\n['704', '0', '3', 'Gallagher', ' Mr. Martin', 'male', '25', '0', '0', '36864', '7.7417', '', 'Q']\n['705', '0', '3', 'Hansen', ' Mr. Henrik Juul', 'male', '26', '1', '0', '350025', '7.8542', '', 'S']\n['706', '0', '2', 'Morley', ' Mr. Henry Samuel (Mr Henry Marshall)', 'male', '39', '0', '0', '250655', '26', '', 'S']\n['707', '1', '2', 'Kelly', ' Mrs. Florence Fannie', 'female', '45', '0', '0', '223596', '13.5', '', 'S']\n['708', '1', '1', 'Calderhead', ' Mr. Edward Pennington', 'male', '42', '0', '0', 'PC 17476', '26.2875', 'E24', 'S']\n['709', '1', '1', 'Cleaver', ' Miss. Alice', 'female', '22', '0', '0', '113781', '151.55', '', 'S']\n['710', '1', '3', 'Moubarek', ' Master. Halim Gonios (William George)', 'male', '', '1', '1', '2661', '15.2458', '', 'C']\n['711', '1', '1', 'Mayne', ' Mlle. Berthe Antonine (Mrs de Villiers)', 'female', '24', '0', '0', 'PC 17482', '49.5042', 'C90', 'C']\n['712', '0', '1', 'Klaber', ' Mr. Herman', 'male', '', '0', '0', '113028', '26.55', 'C124', 'S']\n['713', '1', '1', 'Taylor', ' Mr. Elmer Zebley', 'male', '48', '1', '0', '19996', '52', 'C126', 'S']\n['714', '0', '3', 'Larsson', ' Mr. August Viktor', 'male', '29', '0', '0', '7545', '9.4833', '', 'S']\n['715', '0', '2', 'Greenberg', ' Mr. Samuel', 'male', '52', '0', '0', '250647', '13', '', 'S']\n['716', '0', '3', 'Soholt', ' Mr. Peter Andreas Lauritz Andersen', 'male', '19', '0', '0', '348124', '7.65', 'F G73', 'S']\n['717', '1', '1', 'Endres', ' Miss. Caroline Louise', 'female', '38', '0', '0', 'PC 17757', '227.525', 'C45', 'C']\n['718', '1', '2', 'Troutt', ' Miss. Edwina Celia Winnie', 'female', '27', '0', '0', '34218', '10.5', 'E101', 'S']\n['719', '0', '3', 'McEvoy', ' Mr. Michael', 'male', '', '0', '0', '36568', '15.5', '', 'Q']\n['720', '0', '3', 'Johnson', ' Mr. Malkolm Joackim', 'male', '33', '0', '0', '347062', '7.775', '', 'S']\n['721', '1', '2', 'Harper', ' Miss. Annie Jessie Nina', 'female', '6', '0', '1', '248727', '33', '', 'S']\n['722', '0', '3', 'Jensen', ' Mr. Svend Lauritz', 'male', '17', '1', '0', '350048', '7.0542', '', 'S']\n['723', '0', '2', 'Gillespie', ' Mr. William Henry', 'male', '34', '0', '0', '12233', '13', '', 'S']\n['724', '0', '2', 'Hodges', ' Mr. Henry Price', 'male', '50', '0', '0', '250643', '13', '', 'S']\n['725', '1', '1', 'Chambers', ' Mr. Norman Campbell', 'male', '27', '1', '0', '113806', '53.1', 'E8', 'S']\n['726', '0', '3', 'Oreskovic', ' Mr. Luka', 'male', '20', '0', '0', '315094', '8.6625', '', 'S']\n['727', '1', '2', 'Renouf', ' Mrs. Peter Henry (Lillian Jefferys)', 'female', '30', '3', '0', '31027', '21', '', 'S']\n['728', '1', '3', 'Mannion', ' Miss. Margareth', 'female', '', '0', '0', '36866', '7.7375', '', 'Q']\n['729', '0', '2', 'Bryhl', ' Mr. Kurt Arnold Gottfrid', 'male', '25', '1', '0', '236853', '26', '', 'S']\n['730', '0', '3', 'Ilmakangas', ' Miss. Pieta Sofia', 'female', '25', '1', '0', 'STON/O2. 3101271', '7.925', '', 'S']\n['731', '1', '1', 'Allen', ' Miss. Elisabeth Walton', 'female', '29', '0', '0', '24160', '211.3375', 'B5', 'S']\n['732', '0', '3', 'Hassan', ' Mr. Houssein G N', 'male', '11', '0', '0', '2699', '18.7875', '', 'C']\n['733', '0', '2', 'Knight', ' Mr. Robert J', 'male', '', '0', '0', '239855', '0', '', 'S']\n['734', '0', '2', 'Berriman', ' Mr. William John', 'male', '23', '0', '0', '28425', '13', '', 'S']\n['735', '0', '2', 'Troupiansky', ' Mr. Moses Aaron', 'male', '23', '0', '0', '233639', '13', '', 'S']\n['736', '0', '3', 'Williams', ' Mr. Leslie', 'male', '28.5', '0', '0', '54636', '16.1', '', 'S']\n['737', '0', '3', 'Ford', ' Mrs. Edward (Margaret Ann Watson)', 'female', '48', '1', '3', 'W./C. 6608', '34.375', '', 'S']\n['738', '1', '1', 'Lesurer', ' Mr. Gustave J', 'male', '35', '0', '0', 'PC 17755', '512.3292', 'B101', 'C']\n['739', '0', '3', 'Ivanoff', ' Mr. Kanio', 'male', '', '0', '0', '349201', '7.8958', '', 'S']\n['740', '0', '3', 'Nankoff', ' Mr. Minko', 'male', '', '0', '0', '349218', '7.8958', '', 'S']\n['741', '1', '1', 'Hawksford', ' Mr. Walter James', 'male', '', '0', '0', '16988', '30', 'D45', 'S']\n['742', '0', '1', 'Cavendish', ' Mr. Tyrell William', 'male', '36', '1', '0', '19877', '78.85', 'C46', 'S']\n['743', '1', '1', 'Ryerson', ' Miss. Susan Parker Suzette', 'female', '21', '2', '2', 'PC 17608', '262.375', 'B57 B59 B63 B66', 'C']\n['744', '0', '3', 'McNamee', ' Mr. Neal', 'male', '24', '1', '0', '376566', '16.1', '', 'S']\n['745', '1', '3', 'Stranden', ' Mr. Juho', 'male', '31', '0', '0', 'STON/O 2. 3101288', '7.925', '', 'S']\n['746', '0', '1', 'Crosby', ' Capt. Edward Gifford', 'male', '70', '1', '1', 'WE/P 5735', '71', 'B22', 'S']\n['747', '0', '3', 'Abbott', ' Mr. Rossmore Edward', 'male', '16', '1', '1', 'C.A. 2673', '20.25', '', 'S']\n['748', '1', '2', 'Sinkkonen', ' Miss. Anna', 'female', '30', '0', '0', '250648', '13', '', 'S']\n['749', '0', '1', 'Marvin', ' Mr. Daniel Warner', 'male', '19', '1', '0', '113773', '53.1', 'D30', 'S']\n['750', '0', '3', 'Connaghton', ' Mr. Michael', 'male', '31', '0', '0', '335097', '7.75', '', 'Q']\n['751', '1', '2', 'Wells', ' Miss. Joan', 'female', '4', '1', '1', '29103', '23', '', 'S']\n['752', '1', '3', 'Moor', ' Master. Meier', 'male', '6', '0', '1', '392096', '12.475', 'E121', 'S']\n['753', '0', '3', 'Vande Velde', ' Mr. Johannes Joseph', 'male', '33', '0', '0', '345780', '9.5', '', 'S']\n['754', '0', '3', 'Jonkoff', ' Mr. Lalio', 'male', '23', '0', '0', '349204', '7.8958', '', 'S']\n['755', '1', '2', 'Herman', ' Mrs. Samuel (Jane Laver)', 'female', '48', '1', '2', '220845', '65', '', 'S']\n['756', '1', '2', 'Hamalainen', ' Master. Viljo', 'male', '0.67', '1', '1', '250649', '14.5', '', 'S']\n['757', '0', '3', 'Carlsson', ' Mr. August Sigfrid', 'male', '28', '0', '0', '350042', '7.7958', '', 'S']\n['758', '0', '2', 'Bailey', ' Mr. Percy Andrew', 'male', '18', '0', '0', '29108', '11.5', '', 'S']\n['759', '0', '3', 'Theobald', ' Mr. Thomas Leonard', 'male', '34', '0', '0', '363294', '8.05', '', 'S']\n['760', '1', '1', 'Rothes', ' the Countess. of (Lucy Noel Martha Dyer-Edwards)', 'female', '33', '0', '0', '110152', '86.5', 'B77', 'S']\n['761', '0', '3', 'Garfirth', ' Mr. John', 'male', '', '0', '0', '358585', '14.5', '', 'S']\n['762', '0', '3', 'Nirva', ' Mr. Iisakki Antino Aijo', 'male', '41', '0', '0', 'SOTON/O2 3101272', '7.125', '', 'S']\n['763', '1', '3', 'Barah', ' Mr. Hanna Assi', 'male', '20', '0', '0', '2663', '7.2292', '', 'C']\n['764', '1', '1', 'Carter', ' Mrs. William Ernest (Lucile Polk)', 'female', '36', '1', '2', '113760', '120', 'B96 B98', 'S']\n['765', '0', '3', 'Eklund', ' Mr. Hans Linus', 'male', '16', '0', '0', '347074', '7.775', '', 'S']\n['766', '1', '1', 'Hogeboom', ' Mrs. John C (Anna Andrews)', 'female', '51', '1', '0', '13502', '77.9583', 'D11', 'S']\n['767', '0', '1', 'Brewe', ' Dr. Arthur Jackson', 'male', '', '0', '0', '112379', '39.6', '', 'C']\n['768', '0', '3', 'Mangan', ' Miss. Mary', 'female', '30.5', '0', '0', '364850', '7.75', '', 'Q']\n['769', '0', '3', 'Moran', ' Mr. Daniel J', 'male', '', '1', '0', '371110', '24.15', '', 'Q']\n['770', '0', '3', 'Gronnestad', ' Mr. Daniel Danielsen', 'male', '32', '0', '0', '8471', '8.3625', '', 'S']\n['771', '0', '3', 'Lievens', ' Mr. Rene Aime', 'male', '24', '0', '0', '345781', '9.5', '', 'S']\n['772', '0', '3', 'Jensen', ' Mr. Niels Peder', 'male', '48', '0', '0', '350047', '7.8542', '', 'S']\n['773', '0', '2', 'Mack', ' Mrs. (Mary)', 'female', '57', '0', '0', 'S.O./P.P. 3', '10.5', 'E77', 'S']\n['774', '0', '3', 'Elias', ' Mr. Dibo', 'male', '', '0', '0', '2674', '7.225', '', 'C']\n['775', '1', '2', 'Hocking', ' Mrs. Elizabeth (Eliza Needs)', 'female', '54', '1', '3', '29105', '23', '', 'S']\n['776', '0', '3', 'Myhrman', ' Mr. Pehr Fabian Oliver Malkolm', 'male', '18', '0', '0', '347078', '7.75', '', 'S']\n['777', '0', '3', 'Tobin', ' Mr. Roger', 'male', '', '0', '0', '383121', '7.75', 'F38', 'Q']\n['778', '1', '3', 'Emanuel', ' Miss. Virginia Ethel', 'female', '5', '0', '0', '364516', '12.475', '', 'S']\n['779', '0', '3', 'Kilgannon', ' Mr. Thomas J', 'male', '', '0', '0', '36865', '7.7375', '', 'Q']\n['780', '1', '1', 'Robert', ' Mrs. Edward Scott (Elisabeth Walton McMillan)', 'female', '43', '0', '1', '24160', '211.3375', 'B3', 'S']\n['781', '1', '3', 'Ayoub', ' Miss. Banoura', 'female', '13', '0', '0', '2687', '7.2292', '', 'C']\n['782', '1', '1', 'Dick', ' Mrs. Albert Adrian (Vera Gillespie)', 'female', '17', '1', '0', '17474', '57', 'B20', 'S']\n['783', '0', '1', 'Long', ' Mr. Milton Clyde', 'male', '29', '0', '0', '113501', '30', 'D6', 'S']\n['784', '0', '3', 'Johnston', ' Mr. Andrew G', 'male', '', '1', '2', 'W./C. 6607', '23.45', '', 'S']\n['785', '0', '3', 'Ali', ' Mr. William', 'male', '25', '0', '0', 'SOTON/O.Q. 3101312', '7.05', '', 'S']\n['786', '0', '3', 'Harmer', ' Mr. Abraham (David Lishin)', 'male', '25', '0', '0', '374887', '7.25', '', 'S']\n['787', '1', '3', 'Sjoblom', ' Miss. Anna Sofia', 'female', '18', '0', '0', '3101265', '7.4958', '', 'S']\n['788', '0', '3', 'Rice', ' Master. George Hugh', 'male', '8', '4', '1', '382652', '29.125', '', 'Q']\n['789', '1', '3', 'Dean', ' Master. Bertram Vere', 'male', '1', '1', '2', 'C.A. 2315', '20.575', '', 'S']\n['790', '0', '1', 'Guggenheim', ' Mr. Benjamin', 'male', '46', '0', '0', 'PC 17593', '79.2', 'B82 B84', 'C']\n['791', '0', '3', 'Keane', ' Mr. Andrew Andy', 'male', '', '0', '0', '12460', '7.75', '', 'Q']\n['792', '0', '2', 'Gaskell', ' Mr. Alfred', 'male', '16', '0', '0', '239865', '26', '', 'S']\n['793', '0', '3', 'Sage', ' Miss. Stella Anna', 'female', '', '8', '2', 'CA. 2343', '69.55', '', 'S']\n['794', '0', '1', 'Hoyt', ' Mr. William Fisher', 'male', '', '0', '0', 'PC 17600', '30.6958', '', 'C']\n['795', '0', '3', 'Dantcheff', ' Mr. Ristiu', 'male', '25', '0', '0', '349203', '7.8958', '', 'S']\n['796', '0', '2', 'Otter', ' Mr. Richard', 'male', '39', '0', '0', '28213', '13', '', 'S']\n['797', '1', '1', 'Leader', ' Dr. Alice (Farnham)', 'female', '49', '0', '0', '17465', '25.9292', 'D17', 'S']\n['798', '1', '3', 'Osman', ' Mrs. Mara', 'female', '31', '0', '0', '349244', '8.6833', '', 'S']\n['799', '0', '3', 'Ibrahim Shawah', ' Mr. Yousseff', 'male', '30', '0', '0', '2685', '7.2292', '', 'C']\n['800', '0', '3', 'Van Impe', ' Mrs. Jean Baptiste (Rosalie Paula Govaert)', 'female', '30', '1', '1', '345773', '24.15', '', 'S']\n['801', '0', '2', 'Ponesell', ' Mr. Martin', 'male', '34', '0', '0', '250647', '13', '', 'S']\n['802', '1', '2', 'Collyer', ' Mrs. Harvey (Charlotte Annie Tate)', 'female', '31', '1', '1', 'C.A. 31921', '26.25', '', 'S']\n['803', '1', '1', 'Carter', ' Master. William Thornton II', 'male', '11', '1', '2', '113760', '120', 'B96 B98', 'S']\n['804', '1', '3', 'Thomas', ' Master. Assad Alexander', 'male', '0.42', '0', '1', '2625', '8.5167', '', 'C']\n['805', '1', '3', 'Hedman', ' Mr. Oskar Arvid', 'male', '27', '0', '0', '347089', '6.975', '', 'S']\n['806', '0', '3', 'Johansson', ' Mr. Karl Johan', 'male', '31', '0', '0', '347063', '7.775', '', 'S']\n['807', '0', '1', 'Andrews', ' Mr. Thomas Jr', 'male', '39', '0', '0', '112050', '0', 'A36', 'S']\n['808', '0', '3', 'Pettersson', ' Miss. Ellen Natalia', 'female', '18', '0', '0', '347087', '7.775', '', 'S']\n['809', '0', '2', 'Meyer', ' Mr. August', 'male', '39', '0', '0', '248723', '13', '', 'S']\n['810', '1', '1', 'Chambers', ' Mrs. Norman Campbell (Bertha Griggs)', 'female', '33', '1', '0', '113806', '53.1', 'E8', 'S']\n['811', '0', '3', 'Alexander', ' Mr. William', 'male', '26', '0', '0', '3474', '7.8875', '', 'S']\n['812', '0', '3', 'Lester', ' Mr. James', 'male', '39', '0', '0', 'A/4 48871', '24.15', '', 'S']\n['813', '0', '2', 'Slemen', ' Mr. Richard James', 'male', '35', '0', '0', '28206', '10.5', '', 'S']\n['814', '0', '3', 'Andersson', ' Miss. Ebba Iris Alfrida', 'female', '6', '4', '2', '347082', '31.275', '', 'S']\n['815', '0', '3', 'Tomlin', ' Mr. Ernest Portage', 'male', '30.5', '0', '0', '364499', '8.05', '', 'S']\n['816', '0', '1', 'Fry', ' Mr. Richard', 'male', '', '0', '0', '112058', '0', 'B102', 'S']\n['817', '0', '3', 'Heininen', ' Miss. Wendla Maria', 'female', '23', '0', '0', 'STON/O2. 3101290', '7.925', '', 'S']\n['818', '0', '2', 'Mallet', ' Mr. Albert', 'male', '31', '1', '1', 'S.C./PARIS 2079', '37.0042', '', 'C']\n['819', '0', '3', 'Holm', ' Mr. John Fredrik Alexander', 'male', '43', '0', '0', 'C 7075', '6.45', '', 'S']\n['820', '0', '3', 'Skoog', ' Master. Karl Thorsten', 'male', '10', '3', '2', '347088', '27.9', '', 'S']\n['821', '1', '1', 'Hays', ' Mrs. Charles Melville (Clara Jennings Gregg)', 'female', '52', '1', '1', '12749', '93.5', 'B69', 'S']\n['822', '1', '3', 'Lulic', ' Mr. Nikola', 'male', '27', '0', '0', '315098', '8.6625', '', 'S']\n['823', '0', '1', 'Reuchlin', ' Jonkheer. John George', 'male', '38', '0', '0', '19972', '0', '', 'S']\n['824', '1', '3', 'Moor', ' Mrs. (Beila)', 'female', '27', '0', '1', '392096', '12.475', 'E121', 'S']\n['825', '0', '3', 'Panula', ' Master. Urho Abraham', 'male', '2', '4', '1', '3101295', '39.6875', '', 'S']\n['826', '0', '3', 'Flynn', ' Mr. John', 'male', '', '0', '0', '368323', '6.95', '', 'Q']\n['827', '0', '3', 'Lam', ' Mr. Len', 'male', '', '0', '0', '1601', '56.4958', '', 'S']\n['828', '1', '2', 'Mallet', ' Master. Andre', 'male', '1', '0', '2', 'S.C./PARIS 2079', '37.0042', '', 'C']\n['829', '1', '3', 'McCormack', ' Mr. Thomas Joseph', 'male', '', '0', '0', '367228', '7.75', '', 'Q']\n['830', '1', '1', 'Stone', ' Mrs. George Nelson (Martha Evelyn)', 'female', '62', '0', '0', '113572', '80', 'B28', '']\n['831', '1', '3', 'Yasbeck', ' Mrs. Antoni (Selini Alexander)', 'female', '15', '1', '0', '2659', '14.4542', '', 'C']\n['832', '1', '2', 'Richards', ' Master. George Sibley', 'male', '0.83', '1', '1', '29106', '18.75', '', 'S']\n['833', '0', '3', 'Saad', ' Mr. Amin', 'male', '', '0', '0', '2671', '7.2292', '', 'C']\n['834', '0', '3', 'Augustsson', ' Mr. Albert', 'male', '23', '0', '0', '347468', '7.8542', '', 'S']\n['835', '0', '3', 'Allum', ' Mr. Owen George', 'male', '18', '0', '0', '2223', '8.3', '', 'S']\n['836', '1', '1', 'Compton', ' Miss. Sara Rebecca', 'female', '39', '1', '1', 'PC 17756', '83.1583', 'E49', 'C']\n['837', '0', '3', 'Pasic', ' Mr. Jakob', 'male', '21', '0', '0', '315097', '8.6625', '', 'S']\n['838', '0', '3', 'Sirota', ' Mr. Maurice', 'male', '', '0', '0', '392092', '8.05', '', 'S']\n['839', '1', '3', 'Chip', ' Mr. Chang', 'male', '32', '0', '0', '1601', '56.4958', '', 'S']\n['840', '1', '1', 'Marechal', ' Mr. Pierre', 'male', '', '0', '0', '11774', '29.7', 'C47', 'C']\n['841', '0', '3', 'Alhomaki', ' Mr. Ilmari Rudolf', 'male', '20', '0', '0', 'SOTON/O2 3101287', '7.925', '', 'S']\n['842', '0', '2', 'Mudd', ' Mr. Thomas Charles', 'male', '16', '0', '0', 'S.O./P.P. 3', '10.5', '', 'S']\n['843', '1', '1', 'Serepeca', ' Miss. Augusta', 'female', '30', '0', '0', '113798', '31', '', 'C']\n['844', '0', '3', 'Lemberopolous', ' Mr. Peter L', 'male', '34.5', '0', '0', '2683', '6.4375', '', 'C']\n['845', '0', '3', 'Culumovic', ' Mr. Jeso', 'male', '17', '0', '0', '315090', '8.6625', '', 'S']\n['846', '0', '3', 'Abbing', ' Mr. Anthony', 'male', '42', '0', '0', 'C.A. 5547', '7.55', '', 'S']\n['847', '0', '3', 'Sage', ' Mr. Douglas Bullen', 'male', '', '8', '2', 'CA. 2343', '69.55', '', 'S']\n['848', '0', '3', 'Markoff', ' Mr. Marin', 'male', '35', '0', '0', '349213', '7.8958', '', 'C']\n['849', '0', '2', 'Harper', ' Rev. John', 'male', '28', '0', '1', '248727', '33', '', 'S']\n['850', '1', '1', 'Goldenberg', ' Mrs. Samuel L (Edwiga Grabowska)', 'female', '', '1', '0', '17453', '89.1042', 'C92', 'C']\n['851', '0', '3', 'Andersson', ' Master. Sigvard Harald Elias', 'male', '4', '4', '2', '347082', '31.275', '', 'S']\n['852', '0', '3', 'Svensson', ' Mr. Johan', 'male', '74', '0', '0', '347060', '7.775', '', 'S']\n['853', '0', '3', 'Boulos', ' Miss. Nourelain', 'female', '9', '1', '1', '2678', '15.2458', '', 'C']\n['854', '1', '1', 'Lines', ' Miss. Mary Conover', 'female', '16', '0', '1', 'PC 17592', '39.4', 'D28', 'S']\n['855', '0', '2', 'Carter', ' Mrs. Ernest Courtenay (Lilian Hughes)', 'female', '44', '1', '0', '244252', '26', '', 'S']\n['856', '1', '3', 'Aks', ' Mrs. Sam (Leah Rosen)', 'female', '18', '0', '1', '392091', '9.35', '', 'S']\n['857', '1', '1', 'Wick', ' Mrs. George Dennick (Mary Hitchcock)', 'female', '45', '1', '1', '36928', '164.8667', '', 'S']\n['858', '1', '1', 'Daly', ' Mr. Peter Denis ', 'male', '51', '0', '0', '113055', '26.55', 'E17', 'S']\n['859', '1', '3', 'Baclini', ' Mrs. Solomon (Latifa Qurban)', 'female', '24', '0', '3', '2666', '19.2583', '', 'C']\n['860', '0', '3', 'Razi', ' Mr. Raihed', 'male', '', '0', '0', '2629', '7.2292', '', 'C']\n['861', '0', '3', 'Hansen', ' Mr. Claus Peter', 'male', '41', '2', '0', '350026', '14.1083', '', 'S']\n['862', '0', '2', 'Giles', ' Mr. Frederick Edward', 'male', '21', '1', '0', '28134', '11.5', '', 'S']\n['863', '1', '1', 'Swift', ' Mrs. Frederick Joel (Margaret Welles Barron)', 'female', '48', '0', '0', '17466', '25.9292', 'D17', 'S']\n['864', '0', '3', 'Sage', ' Miss. Dorothy Edith Dolly', 'female', '', '8', '2', 'CA. 2343', '69.55', '', 'S']\n['865', '0', '2', 'Gill', ' Mr. John William', 'male', '24', '0', '0', '233866', '13', '', 'S']\n['866', '1', '2', 'Bystrom', ' Mrs. (Karolina)', 'female', '42', '0', '0', '236852', '13', '', 'S']\n['867', '1', '2', 'Duran y More', ' Miss. Asuncion', 'female', '27', '1', '0', 'SC/PARIS 2149', '13.8583', '', 'C']\n['868', '0', '1', 'Roebling', ' Mr. Washington Augustus II', 'male', '31', '0', '0', 'PC 17590', '50.4958', 'A24', 'S']\n['869', '0', '3', 'van Melkebeke', ' Mr. Philemon', 'male', '', '0', '0', '345777', '9.5', '', 'S']\n['870', '1', '3', 'Johnson', ' Master. Harold Theodor', 'male', '4', '1', '1', '347742', '11.1333', '', 'S']\n['871', '0', '3', 'Balkic', ' Mr. Cerin', 'male', '26', '0', '0', '349248', '7.8958', '', 'S']\n['872', '1', '1', 'Beckwith', ' Mrs. Richard Leonard (Sallie Monypeny)', 'female', '47', '1', '1', '11751', '52.5542', 'D35', 'S']\n['873', '0', '1', 'Carlsson', ' Mr. Frans Olof', 'male', '33', '0', '0', '695', '5', 'B51 B53 B55', 'S']\n['874', '0', '3', 'Vander Cruyssen', ' Mr. Victor', 'male', '47', '0', '0', '345765', '9', '', 'S']\n['875', '1', '2', 'Abelson', ' Mrs. Samuel (Hannah Wizosky)', 'female', '28', '1', '0', 'P/PP 3381', '24', '', 'C']\n['876', '1', '3', 'Najib', ' Miss. Adele Kiamie Jane', 'female', '15', '0', '0', '2667', '7.225', '', 'C']\n['877', '0', '3', 'Gustafsson', ' Mr. Alfred Ossian', 'male', '20', '0', '0', '7534', '9.8458', '', 'S']\n['878', '0', '3', 'Petroff', ' Mr. Nedelio', 'male', '19', '0', '0', '349212', '7.8958', '', 'S']\n['879', '0', '3', 'Laleff', ' Mr. Kristo', 'male', '', '0', '0', '349217', '7.8958', '', 'S']\n['880', '1', '1', 'Potter', ' Mrs. Thomas Jr (Lily Alexenia Wilson)', 'female', '56', '0', '1', '11767', '83.1583', 'C50', 'C']\n['881', '1', '2', 'Shelley', ' Mrs. William (Imanita Parrish Hall)', 'female', '25', '0', '1', '230433', '26', '', 'S']\n['882', '0', '3', 'Markun', ' Mr. Johann', 'male', '33', '0', '0', '349257', '7.8958', '', 'S']\n['883', '0', '3', 'Dahlberg', ' Miss. Gerda Ulrika', 'female', '22', '0', '0', '7552', '10.5167', '', 'S']\n['884', '0', '2', 'Banfield', ' Mr. Frederick James', 'male', '28', '0', '0', 'C.A./SOTON 34068', '10.5', '', 'S']\n['885', '0', '3', 'Sutehall', ' Mr. Henry Jr', 'male', '25', '0', '0', 'SOTON/OQ 392076', '7.05', '', 'S']\n['886', '0', '3', 'Rice', ' Mrs. William (Margaret Norton)', 'female', '39', '0', '5', '382652', '29.125', '', 'Q']\n['887', '0', '2', 'Montvila', ' Rev. Juozas', 'male', '27', '0', '0', '211536', '13', '', 'S']\n['888', '1', '1', 'Graham', ' Miss. Margaret Edith', 'female', '19', '0', '0', '112053', '30', 'B42', 'S']\n['889', '0', '3', 'Johnston', ' Miss. Catherine Helen Carrie', 'female', '', '1', '2', 'W./C. 6607', '23.45', '', 'S']\n['890', '1', '1', 'Behr', ' Mr. Karl Howell', 'male', '26', '0', '0', '111369', '30', 'C148', 'C']\n['891', '0', '3', 'Dooley', ' Mr. Patrick', 'male', '32', '0', '0', '370376', '7.75', '', 'Q']\n"
     ]
    }
   ],
   "source": [
    "import csv\n",
    "#datos/titanic_datos.txt\n",
    "with open('/Users/desneruda/Documents/GitHub/school/deep-learning-for-computer-vision/introduction/Entregable/datos/titanic_datos.txt') as csv_file:\n",
    "    lector = csv.reader(csv_file)\n",
    "    next(lector)\n",
    "    for linea in lector:\n",
    "        print(linea)"
   ]
  },
  {
   "cell_type": "markdown",
   "metadata": {},
   "source": [
    "<div class=\"alert alert-info\">\n",
    " <ul>\n",
    "  <li>Encuentre el número de pasajeros</li>\n",
    "</ul> \n",
    "\n",
    "</div>"
   ]
  },
  {
   "cell_type": "code",
   "execution_count": 5,
   "metadata": {},
   "outputs": [
    {
     "output_type": "stream",
     "name": "stdout",
     "text": [
      "numero de pasajeros: 891\n"
     ]
    }
   ],
   "source": [
    "contador_personas=0\n",
    "\n",
    "import csv\n",
    "#datos/titanic_datos.txt\n",
    "with open('datos/titanic_datos.txt') as csv_file:\n",
    "    lector = csv.reader(csv_file)\n",
    "    next(lector)\n",
    "    for linea in lector:\n",
    "        contador_personas = contador_personas +1\n",
    "        \n",
    "print('numero de pasajeros:',contador_personas)\n"
   ]
  },
  {
   "cell_type": "markdown",
   "metadata": {},
   "source": [
    "<div class=\"alert alert-info\">\n",
    " <ul>\n",
    "  <li>Encuentre el número de sobrevivientes</li>\n",
    "</ul> \n",
    "\n",
    "</div>"
   ]
  },
  {
   "cell_type": "code",
   "execution_count": 6,
   "metadata": {},
   "outputs": [
    {
     "output_type": "stream",
     "name": "stdout",
     "text": [
      "numero de pasajeros: 891\nsobrevivientes: 342\n38.38383838383838\n"
     ]
    }
   ],
   "source": [
    "contador_sobrevivientes=0\n",
    "contador_personas=0\n",
    "\n",
    "import csv\n",
    "#datos/titanic_datos.txt\n",
    "with open('datos/titanic_datos.txt') as csv_file:\n",
    "    lector = csv.reader(csv_file)\n",
    "    next(lector)\n",
    "    for linea in lector:\n",
    "        contador_personas = contador_personas +1\n",
    "        if linea[1] == '1' :\n",
    "            contador_sobrevivientes = contador_sobrevivientes + 1\n",
    "        \n",
    "        \n",
    "print('numero de pasajeros:',contador_personas)\n",
    "print('sobrevivientes:',contador_sobrevivientes)\n",
    "print(100*(contador_sobrevivientes/contador_personas))\n"
   ]
  },
  {
   "cell_type": "markdown",
   "metadata": {},
   "source": [
    "<div class=\"alert alert-info\">\n",
    " <ul>\n",
    "  <li>Encuentre el numero de pasajeros por clase </li>\n",
    "</ul> \n",
    "\n",
    "</div>"
   ]
  },
  {
   "cell_type": "code",
   "execution_count": 7,
   "metadata": {},
   "outputs": [
    {
     "output_type": "stream",
     "name": "stdout",
     "text": [
      "numero de pasajeros C1: 216\nnumero de pasajeros C2 184\nnumero de pasajeros C3: 491\n"
     ]
    }
   ],
   "source": [
    "contador_C1=0\n",
    "contador_C2=0\n",
    "contador_C3=0\n",
    "\n",
    "\n",
    "import csv\n",
    "#datos/titanic_datos.txt\n",
    "with open('datos/titanic_datos.txt') as csv_file:\n",
    "    lector = csv.reader(csv_file)\n",
    "    next(lector)\n",
    "    for linea in lector:\n",
    "        if linea[2] == '1' :\n",
    "            contador_C1 = contador_C1 + 1\n",
    "        if linea[2] == '2' :\n",
    "            contador_C2 = contador_C2 + 1\n",
    "        if linea[2] == '3' :\n",
    "            contador_C3 = contador_C3 + 1        \n",
    "        \n",
    "print('numero de pasajeros C1:', contador_C1)\n",
    "print('numero de pasajeros C2', contador_C2)\n",
    "print('numero de pasajeros C3:', contador_C3)\n"
   ]
  },
  {
   "cell_type": "markdown",
   "metadata": {},
   "source": [
    "<div class=\"alert alert-info\">\n",
    " <ul>\n",
    "  <li>Encuentre el numero de pasajeros que tengan como nombre o apellido el string 'William'</li>\n",
    "</ul> \n",
    "\n",
    "</div>"
   ]
  },
  {
   "cell_type": "code",
   "execution_count": 8,
   "metadata": {},
   "outputs": [
    {
     "output_type": "stream",
     "name": "stdout",
     "text": [
      "69\n"
     ]
    }
   ],
   "source": [
    "contador_William=0\n",
    "\n",
    "with open('datos/titanic_datos.txt') as csv_file:\n",
    "    lector = csv.reader(csv_file)\n",
    "    next(lector)\n",
    "    for linea in lector:\n",
    "        if ('William' in linea[3]) or ('William' in linea[4]):\n",
    "            contador_William = contador_William +1\n",
    "\n",
    "print(contador_William)"
   ]
  },
  {
   "cell_type": "markdown",
   "metadata": {},
   "source": [
    "<div class=\"alert alert-success\">\n",
    " <ul>\n",
    "  <li>1. Encuentre el número de mujeres y hombres. ¿Cuál era la probabilidad de supervivencia de una persona? ¿Cuál era la probabilidad de supervivencia de un hombre y el de una mujer?</li>\n",
    "</ul> \n",
    "\n",
    "</div>"
   ]
  },
  {
   "cell_type": "code",
   "execution_count": 12,
   "metadata": {},
   "outputs": [
    {
     "output_type": "stream",
     "name": "stdout",
     "text": [
      "Total mujeres: 314, total hombres: 577\n"
     ]
    }
   ],
   "source": [
    "contador_wom=0\n",
    "contador_man=0\n",
    "\n",
    "with open('datos/titanic_datos.txt') as csv_file:\n",
    "    lector = csv.reader(csv_file)\n",
    "    next(lector)\n",
    "    for linea in lector:\n",
    "        if ('male' in linea[5]):\n",
    "            contador_man += 1\n",
    "            if ('fe' in linea[5]):\n",
    "                contador_wom += 1\n",
    "                contador_man -= 1\n",
    "\n",
    "print(f'Total mujeres: {contador_wom}, total hombres: {contador_man}')"
   ]
  },
  {
   "cell_type": "markdown",
   "metadata": {},
   "source": [
    "<div class=\"alert alert-success\">\n",
    " <ul>\n",
    "  <li>2. ¿Cuál era la edad promedio? ¿Cual era la edad de la persona más grande y la de la más joven? ¿Cuáles eran las edades de las 5 personas mas grandes?.  </li>\n",
    "</ul> \n",
    "\n",
    "</div>"
   ]
  },
  {
   "cell_type": "code",
   "execution_count": 24,
   "metadata": {},
   "outputs": [
    {
     "output_type": "stream",
     "name": "stdout",
     "text": [
      "media: 29.847605224963715, joven: 1, viejo: 80, top 5 viejitos: [66, 80, 71, 58, 66]\n"
     ]
    }
   ],
   "source": [
    "mean        = 0\n",
    "total       = 0\n",
    "older       = 0\n",
    "younger     = 1000\n",
    "older_array = []\n",
    "\n",
    "with open('datos/titanic_datos.txt') as csv_file:\n",
    "    lector = csv.reader(csv_file)\n",
    "    next(lector)\n",
    "    for linea in lector:\n",
    "        try: \n",
    "            mean  += int(linea[6])\n",
    "            total += 1\n",
    "\n",
    "            if int(linea[6]) > older:\n",
    "                older = int(linea[6])\n",
    "                \n",
    "                if len(older_array) < 5:\n",
    "                    older_array.append(older)\n",
    "\n",
    "                if min(older_array) < int(linea[6]):\n",
    "                    older_array[older_array.index(min(older_array))] = int(linea[6])\n",
    "\n",
    "            if int(linea[6]) < younger:\n",
    "                younger = int(linea[6])\n",
    "        except:\n",
    "            pass\n",
    "\n",
    "\n",
    "\n",
    "print(f'media: {mean/total}, joven: {younger}, viejo: {older}, top 5 viejitos: {older_array}')"
   ]
  },
  {
   "cell_type": "markdown",
   "metadata": {},
   "source": [
    "<div class=\"alert alert-success\">\n",
    " <ul>\n",
    "  <li> 3. ¿Cuál era la probabilidad de supervivencia de alguien menor a 25 años?  </li>\n",
    "</ul> \n",
    "\n",
    "</div>"
   ]
  },
  {
   "cell_type": "code",
   "execution_count": 44,
   "metadata": {},
   "outputs": [
    {
     "output_type": "stream",
     "name": "stdout",
     "text": [
      "P: 0.4250614250614251\n"
     ]
    }
   ],
   "source": [
    "total_deaths  = 0\n",
    "youngs_deaths = 0\n",
    "\n",
    "with open('datos/titanic_datos.txt') as csv_file:\n",
    "    lector = csv.reader(csv_file)\n",
    "    next(lector)\n",
    "    for linea in lector:\n",
    "        if linea[1]!='1':\n",
    "            try:\n",
    "                if int(linea[6]) < 26:\n",
    "                    youngs_deaths += 1\n",
    "                total_deaths += 1\n",
    "            except:\n",
    "                pass\n",
    "print(f'P: {youngs_deaths/total_deaths}')"
   ]
  },
  {
   "cell_type": "markdown",
   "metadata": {},
   "source": [
    "<div class=\"alert alert-success\">\n",
    " <ul>\n",
    "  <li> 4. Encuentre en número de personas que embarcaron en Cherbourg, Queenstown y en Southampton.  </li>\n",
    "</ul> \n",
    "\n",
    "</div>"
   ]
  },
  {
   "cell_type": "code",
   "execution_count": 48,
   "metadata": {},
   "outputs": [
    {
     "output_type": "stream",
     "name": "stdout",
     "text": [
      "Cherbourg: 168, Queenstown: 77 y en Southampton: 644\n"
     ]
    }
   ],
   "source": [
    "Cherbourg   = 0\n",
    "Queenstown  = 0\n",
    "Southampton = 0\n",
    "\n",
    "with open('datos/titanic_datos.txt') as csv_file:\n",
    "    lector = csv.reader(csv_file)\n",
    "    next(lector)\n",
    "    for linea in lector:\n",
    "        if linea[-1]   == 'C':\n",
    "            Cherbourg += 1\n",
    "\n",
    "        elif linea[-1] == 'S':\n",
    "            Southampton += 1\n",
    "\n",
    "        elif linea[-1] == 'Q':\n",
    "            Queenstown += 1\n",
    "        \n",
    "print(f'Cherbourg: {Cherbourg}, Queenstown: {Queenstown} y en Southampton: {Southampton}')"
   ]
  },
  {
   "cell_type": "markdown",
   "metadata": {},
   "source": [
    "<div class=\"alert alert-success\">\n",
    " <ul>\n",
    "  <li> 5. Con los datos del ejercicio anterior haga una grafica de barras </li>\n",
    "</ul> \n",
    "\n",
    "</div>"
   ]
  },
  {
   "cell_type": "markdown",
   "metadata": {},
   "source": [
    "<div class=\"alert alert-success\">\n",
    " <ul>\n",
    "  <li> 6. ¿Cuál hubiera sido la ganancia total? Considere que el día del embarque se le pedía un impuesto a cada tripulante dependiendo de su clase (3era = 0.5 pounds, 2da = 15 pounds, 1era=40 pounds).  Defina una función llamada conversión que reciba dos parámetros (la clase y el costo del ticket) y  regrese el costo actual (USD). Exprese su resultados en USD  </li>\n",
    "</ul> \n",
    "\n",
    "</div>"
   ]
  },
  {
   "cell_type": "code",
   "execution_count": 64,
   "metadata": {},
   "outputs": [
    {
     "output_type": "stream",
     "name": "stdout",
     "text": [
      "total: 70658.69003400006 USD\n"
     ]
    }
   ],
   "source": [
    "def leppard(clase, pounds):\n",
    "    switch={\n",
    "        '1': 0.5,\n",
    "        '2': 15,\n",
    "        '3': 40,\n",
    "    }\n",
    "    return (switch.get(clase, \"Invalid input\") + pounds)*1.38\n",
    "\n",
    "total = 0\n",
    "\n",
    "with open('datos/titanic_datos.txt') as csv_file:\n",
    "    lector = csv.reader(csv_file)\n",
    "    next(lector)\n",
    "    for linea in lector:\n",
    "        try:\n",
    "            total += leppard(linea[2], float(linea[-3]))\n",
    "        except:\n",
    "            pass\n",
    "\n",
    "print(f'total: {total} USD')"
   ]
  },
  {
   "cell_type": "markdown",
   "metadata": {},
   "source": [
    "<div class=\"alert alert-success\">\n",
    "\n",
    " <ul>\n",
    "  <li>7. ¿Cuál es la distribución por edad de los pasajeros de manera general, así como para hombres y mujeres? (Usando histogramas)</li>\n",
    "</ul> \n",
    "\n",
    "</div>"
   ]
  },
  {
   "cell_type": "code",
   "execution_count": null,
   "metadata": {},
   "outputs": [],
   "source": [
    "contador_wom_array = []\n",
    "contador_man_array = []\n",
    "\n",
    "with open('datos/titanic_datos.txt') as csv_file:\n",
    "    lector = csv.reader(csv_file)\n",
    "    next(lector)\n",
    "    for linea in lector:\n",
    "        if ('male' in linea[5]):\n",
    "            contador_man += 1\n",
    "            if ('fe' in linea[5]):\n",
    "                contador_wom += 1\n",
    "                contador_man -= 1\n",
    "\n",
    "print(f'Total mujeres: {contador_wom}, total hombres: {contador_man}')"
   ]
  },
  {
   "cell_type": "markdown",
   "metadata": {},
   "source": [
    "<div class=\"alert alert-success\">\n",
    " \n",
    " <ul>\n",
    "  <li> 8. ¿Cómo difiere la tasa de supervivencia entre las diferentes clases del Titanic?</li>\n",
    "</ul> \n",
    "\n",
    "</div>"
   ]
  },
  {
   "cell_type": "code",
   "execution_count": 67,
   "metadata": {},
   "outputs": [
    {
     "output_type": "stream",
     "name": "stdout",
     "text": [
      "Clase 1: 0.14571948998178508,\nClase 2: 0.1766848816029144,\nClase 3: 0.6775956284153005\n"
     ]
    }
   ],
   "source": [
    "total_deaths  = 0\n",
    "class1_deaths = 0\n",
    "class2_deaths = 0\n",
    "class3_deaths = 0\n",
    "\n",
    "with open('datos/titanic_datos.txt') as csv_file:\n",
    "    lector = csv.reader(csv_file)\n",
    "    next(lector)\n",
    "    for linea in lector:\n",
    "        if linea[1]!='1':\n",
    "            total_deaths += 1\n",
    "            if linea[2] == '1':\n",
    "                class1_deaths += 1\n",
    "            elif linea[2] == '2':\n",
    "                class2_deaths += 1\n",
    "            elif linea[2] == '3':\n",
    "                class3_deaths += 1\n",
    "\n",
    "\n",
    "print(f'Clase 1: {class1_deaths/total_deaths},\\nClase 2: {class2_deaths/total_deaths},\\nClase 3: {class3_deaths/total_deaths}')"
   ]
  },
  {
   "cell_type": "markdown",
   "metadata": {},
   "source": [
    "\n",
    "\n",
    "<div class=\"alert alert-warning\">\n",
    "\n",
    "**Todas las funciones necesarias para analizar datos como los del ejemplo anterior, se explicarán a lo largo de esta unidad dedicada a la librería Pandas**\n",
    "\n",
    "</div>"
   ]
  },
  {
   "cell_type": "markdown",
   "metadata": {},
   "source": [
    "<img align=\"left\" width=\"800\"  float= \"none\" align=\"middle\" src=\"figuras/titanic2.png\">"
   ]
  },
  {
   "cell_type": "code",
   "execution_count": null,
   "metadata": {},
   "outputs": [],
   "source": []
  }
 ],
 "metadata": {
  "kernelspec": {
   "name": "python3",
   "display_name": "Python 3.8.1 64-bit"
  },
  "language_info": {
   "name": "python",
   "version": "3.8.1"
  },
  "interpreter": {
   "hash": "aee8b7b246df8f9039afb4144a1f6fd8d2ca17a180786b69acc140d282b71a49"
  }
 },
 "nbformat": 4,
 "nbformat_minor": 4
}